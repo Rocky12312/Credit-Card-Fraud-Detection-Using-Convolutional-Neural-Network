{
  "nbformat": 4,
  "nbformat_minor": 0,
  "metadata": {
    "colab": {
      "name": "Untitled0.ipynb",
      "provenance": []
    },
    "kernelspec": {
      "name": "python3",
      "display_name": "Python 3"
    }
  },
  "cells": [
    {
      "cell_type": "code",
      "metadata": {
        "id": "k2QBJ97E4HGF",
        "colab_type": "code",
        "colab": {}
      },
      "source": [
        "import numpy as np\n",
        "import pandas as pd\n",
        "import matplotlib.pyplot as plt\n",
        "%matplotlib inline\n",
        "from sklearn.preprocessing import StandardScaler \n",
        "from sklearn.metrics import confusion_matrix, classification_report \n",
        "from sklearn.model_selection import train_test_split"
      ],
      "execution_count": 0,
      "outputs": []
    },
    {
      "cell_type": "code",
      "metadata": {
        "id": "vtiF-W-C4YGc",
        "colab_type": "code",
        "colab": {}
      },
      "source": [
        "import tensorflow as tf\n",
        "from tensorflow import keras\n",
        "from tensorflow.keras import Sequential\n",
        "from tensorflow.keras.layers import Flatten,Dense,Dropout,BatchNormalization,Conv1D,MaxPool1D"
      ],
      "execution_count": 0,
      "outputs": []
    },
    {
      "cell_type": "code",
      "metadata": {
        "id": "xs3HvY4T5HbD",
        "colab_type": "code",
        "outputId": "51b3f722-adc7-4704-9ef8-52d9f1977bda",
        "colab": {
          "base_uri": "https://localhost:8080/",
          "height": 34
        }
      },
      "source": [
        "from google.colab import drive\n",
        "drive.mount('/content/drive/')"
      ],
      "execution_count": 45,
      "outputs": [
        {
          "output_type": "stream",
          "text": [
            "Mounted at /content/drive/\n"
          ],
          "name": "stdout"
        }
      ]
    },
    {
      "cell_type": "code",
      "metadata": {
        "id": "rGyqEYsO5WHR",
        "colab_type": "code",
        "outputId": "d5772bf2-a910-4487-af7a-be3d20c44488",
        "colab": {
          "base_uri": "https://localhost:8080/",
          "height": 126
        }
      },
      "source": [
        "df = pd.read_csv(\"/content/drive/My Drive/credit card fraud detection/creditcard.csv\")\n",
        "df.head(2)"
      ],
      "execution_count": 46,
      "outputs": [
        {
          "output_type": "execute_result",
          "data": {
            "text/html": [
              "<div>\n",
              "<style scoped>\n",
              "    .dataframe tbody tr th:only-of-type {\n",
              "        vertical-align: middle;\n",
              "    }\n",
              "\n",
              "    .dataframe tbody tr th {\n",
              "        vertical-align: top;\n",
              "    }\n",
              "\n",
              "    .dataframe thead th {\n",
              "        text-align: right;\n",
              "    }\n",
              "</style>\n",
              "<table border=\"1\" class=\"dataframe\">\n",
              "  <thead>\n",
              "    <tr style=\"text-align: right;\">\n",
              "      <th></th>\n",
              "      <th>Time</th>\n",
              "      <th>V1</th>\n",
              "      <th>V2</th>\n",
              "      <th>V3</th>\n",
              "      <th>V4</th>\n",
              "      <th>V5</th>\n",
              "      <th>V6</th>\n",
              "      <th>V7</th>\n",
              "      <th>V8</th>\n",
              "      <th>V9</th>\n",
              "      <th>V10</th>\n",
              "      <th>V11</th>\n",
              "      <th>V12</th>\n",
              "      <th>V13</th>\n",
              "      <th>V14</th>\n",
              "      <th>V15</th>\n",
              "      <th>V16</th>\n",
              "      <th>V17</th>\n",
              "      <th>V18</th>\n",
              "      <th>V19</th>\n",
              "      <th>V20</th>\n",
              "      <th>V21</th>\n",
              "      <th>V22</th>\n",
              "      <th>V23</th>\n",
              "      <th>V24</th>\n",
              "      <th>V25</th>\n",
              "      <th>V26</th>\n",
              "      <th>V27</th>\n",
              "      <th>V28</th>\n",
              "      <th>Amount</th>\n",
              "      <th>Class</th>\n",
              "    </tr>\n",
              "  </thead>\n",
              "  <tbody>\n",
              "    <tr>\n",
              "      <th>0</th>\n",
              "      <td>0.0</td>\n",
              "      <td>-1.359807</td>\n",
              "      <td>-0.072781</td>\n",
              "      <td>2.536347</td>\n",
              "      <td>1.378155</td>\n",
              "      <td>-0.338321</td>\n",
              "      <td>0.462388</td>\n",
              "      <td>0.239599</td>\n",
              "      <td>0.098698</td>\n",
              "      <td>0.363787</td>\n",
              "      <td>0.090794</td>\n",
              "      <td>-0.551600</td>\n",
              "      <td>-0.617801</td>\n",
              "      <td>-0.991390</td>\n",
              "      <td>-0.311169</td>\n",
              "      <td>1.468177</td>\n",
              "      <td>-0.470401</td>\n",
              "      <td>0.207971</td>\n",
              "      <td>0.025791</td>\n",
              "      <td>0.403993</td>\n",
              "      <td>0.251412</td>\n",
              "      <td>-0.018307</td>\n",
              "      <td>0.277838</td>\n",
              "      <td>-0.110474</td>\n",
              "      <td>0.066928</td>\n",
              "      <td>0.128539</td>\n",
              "      <td>-0.189115</td>\n",
              "      <td>0.133558</td>\n",
              "      <td>-0.021053</td>\n",
              "      <td>149.62</td>\n",
              "      <td>0</td>\n",
              "    </tr>\n",
              "    <tr>\n",
              "      <th>1</th>\n",
              "      <td>0.0</td>\n",
              "      <td>1.191857</td>\n",
              "      <td>0.266151</td>\n",
              "      <td>0.166480</td>\n",
              "      <td>0.448154</td>\n",
              "      <td>0.060018</td>\n",
              "      <td>-0.082361</td>\n",
              "      <td>-0.078803</td>\n",
              "      <td>0.085102</td>\n",
              "      <td>-0.255425</td>\n",
              "      <td>-0.166974</td>\n",
              "      <td>1.612727</td>\n",
              "      <td>1.065235</td>\n",
              "      <td>0.489095</td>\n",
              "      <td>-0.143772</td>\n",
              "      <td>0.635558</td>\n",
              "      <td>0.463917</td>\n",
              "      <td>-0.114805</td>\n",
              "      <td>-0.183361</td>\n",
              "      <td>-0.145783</td>\n",
              "      <td>-0.069083</td>\n",
              "      <td>-0.225775</td>\n",
              "      <td>-0.638672</td>\n",
              "      <td>0.101288</td>\n",
              "      <td>-0.339846</td>\n",
              "      <td>0.167170</td>\n",
              "      <td>0.125895</td>\n",
              "      <td>-0.008983</td>\n",
              "      <td>0.014724</td>\n",
              "      <td>2.69</td>\n",
              "      <td>0</td>\n",
              "    </tr>\n",
              "  </tbody>\n",
              "</table>\n",
              "</div>"
            ],
            "text/plain": [
              "   Time        V1        V2        V3  ...       V27       V28  Amount  Class\n",
              "0   0.0 -1.359807 -0.072781  2.536347  ...  0.133558 -0.021053  149.62      0\n",
              "1   0.0  1.191857  0.266151  0.166480  ... -0.008983  0.014724    2.69      0\n",
              "\n",
              "[2 rows x 31 columns]"
            ]
          },
          "metadata": {
            "tags": []
          },
          "execution_count": 46
        }
      ]
    },
    {
      "cell_type": "code",
      "metadata": {
        "id": "sWp7VE4v5qYV",
        "colab_type": "code",
        "outputId": "6bb77a2b-b01b-4890-944f-dd9ef9650a63",
        "colab": {
          "base_uri": "https://localhost:8080/",
          "height": 105
        }
      },
      "source": [
        "df.columns"
      ],
      "execution_count": 47,
      "outputs": [
        {
          "output_type": "execute_result",
          "data": {
            "text/plain": [
              "Index(['Time', 'V1', 'V2', 'V3', 'V4', 'V5', 'V6', 'V7', 'V8', 'V9', 'V10',\n",
              "       'V11', 'V12', 'V13', 'V14', 'V15', 'V16', 'V17', 'V18', 'V19', 'V20',\n",
              "       'V21', 'V22', 'V23', 'V24', 'V25', 'V26', 'V27', 'V28', 'Amount',\n",
              "       'Class'],\n",
              "      dtype='object')"
            ]
          },
          "metadata": {
            "tags": []
          },
          "execution_count": 47
        }
      ]
    },
    {
      "cell_type": "code",
      "metadata": {
        "id": "1cUAlNqz5v7G",
        "colab_type": "code",
        "colab": {}
      },
      "source": [
        "df['normAmount'] = StandardScaler().fit_transform(np.array(df['Amount']).reshape(-1, 1)) \n",
        "Y = df[\"Class\"]\n",
        "df.drop([\"Time\",\"Amount\",\"Class\"],axis = 1,inplace = True)\n",
        "X = df"
      ],
      "execution_count": 0,
      "outputs": []
    },
    {
      "cell_type": "code",
      "metadata": {
        "id": "OlGZcz5t9NLT",
        "colab_type": "code",
        "colab": {}
      },
      "source": [
        "X_train, X_test, Y_train, Y_test = train_test_split(X, Y, test_size = 0.3, random_state = 0)"
      ],
      "execution_count": 0,
      "outputs": []
    },
    {
      "cell_type": "code",
      "metadata": {
        "id": "aQFHYuS59njM",
        "colab_type": "code",
        "outputId": "158efb76-018c-4c67-f3a8-e889226a6513",
        "colab": {
          "base_uri": "https://localhost:8080/",
          "height": 158
        }
      },
      "source": [
        "#for balancing the imbalanced datset\n",
        "#we basically used SMOTE algorithm(in SMOTE the minority samples are oversamped so that the became equal to the majority samaple)\n",
        "#we can also use other algorithm for same but SMOTE proves good\n",
        "print(\"Before OverSampling counts of label '1': {}\".format(sum(Y_train == 1))) \n",
        "print(\"Before OverSampling counts of label '0': {} \\n\".format(sum(Y_train == 0))) \n",
        "\n",
        "from imblearn.over_sampling import SMOTE \n",
        "sm = SMOTE(random_state = 2) \n",
        "X_train1, Y_train1 = sm.fit_sample(X_train, Y_train.ravel()) \n",
        "  \n",
        "print('After OverSampling shape of train_X: {}'.format(X_train1.shape)) \n",
        "print('After OverSampling shape of train_y: {} \\n'.format(Y_train1.shape)) \n",
        "  \n",
        "print(\"After OverSampling counts of label '1': {}\".format(sum(Y_train1 == 1))) \n",
        "print(\"After OverSampling counts of label '0': {}\".format(sum(Y_train1 == 0))) "
      ],
      "execution_count": 50,
      "outputs": [
        {
          "output_type": "stream",
          "text": [
            "Before OverSampling counts of label '1': 345\n",
            "Before OverSampling counts of label '0': 199019 \n",
            "\n",
            "After OverSampling shape of train_X: (398038, 29)\n",
            "After OverSampling shape of train_y: (398038,) \n",
            "\n",
            "After OverSampling counts of label '1': 199019\n",
            "After OverSampling counts of label '0': 199019\n"
          ],
          "name": "stdout"
        }
      ]
    },
    {
      "cell_type": "code",
      "metadata": {
        "id": "YX0cPX0K_-NO",
        "colab_type": "code",
        "colab": {}
      },
      "source": [
        "scaler = StandardScaler()\n",
        "X_train = scaler.fit_transform(X_train)\n",
        "X_test = scaler.transform(X_test)"
      ],
      "execution_count": 0,
      "outputs": []
    },
    {
      "cell_type": "code",
      "metadata": {
        "id": "fz2AV9awAlE-",
        "colab_type": "code",
        "colab": {}
      },
      "source": [
        "Y_train = Y_train.to_numpy()\n",
        "Y_test = Y_test.to_numpy()"
      ],
      "execution_count": 0,
      "outputs": []
    },
    {
      "cell_type": "code",
      "metadata": {
        "id": "XOYJzV-FCfw8",
        "colab_type": "code",
        "colab": {}
      },
      "source": [
        "X_train = X_train.reshape(X_train.shape[0],X_train.shape[1],1)\n",
        "X_test = X_test.reshape(X_test.shape[0],X_test.shape[1],1)"
      ],
      "execution_count": 0,
      "outputs": []
    },
    {
      "cell_type": "code",
      "metadata": {
        "id": "FMyoGoJLDICm",
        "colab_type": "code",
        "colab": {}
      },
      "source": [
        "epochs = 20\n",
        "model = Sequential()\n",
        "model.add(Conv1D(32,2,activation = \"relu\",input_shape = X_train[0].shape))\n",
        "model.add(BatchNormalization())\n",
        "model.add(MaxPool1D(2))\n",
        "model.add(Dropout(0.2))\n",
        "model.add(Conv1D(64,2,activation = \"relu\"))\n",
        "model.add(BatchNormalization())\n",
        "model.add(MaxPool1D(2))\n",
        "model.add(Dropout(0.5))\n",
        "model.add(Flatten())\n",
        "model.add(Dense(64,activation = \"relu\"))\n",
        "model.add(Dropout(0.5))\n",
        "model.add(Dense(1,activation = \"sigmoid\"))"
      ],
      "execution_count": 0,
      "outputs": []
    },
    {
      "cell_type": "code",
      "metadata": {
        "id": "8bHyL3qyFcq5",
        "colab_type": "code",
        "outputId": "99876138-a2a8-4900-a467-ad0e7a02b308",
        "colab": {
          "base_uri": "https://localhost:8080/",
          "height": 580
        }
      },
      "source": [
        "model.summary()"
      ],
      "execution_count": 55,
      "outputs": [
        {
          "output_type": "stream",
          "text": [
            "Model: \"sequential_1\"\n",
            "_________________________________________________________________\n",
            "Layer (type)                 Output Shape              Param #   \n",
            "=================================================================\n",
            "conv1d_2 (Conv1D)            (None, 28, 32)            96        \n",
            "_________________________________________________________________\n",
            "batch_normalization_2 (Batch (None, 28, 32)            128       \n",
            "_________________________________________________________________\n",
            "max_pooling1d_2 (MaxPooling1 (None, 14, 32)            0         \n",
            "_________________________________________________________________\n",
            "dropout_3 (Dropout)          (None, 14, 32)            0         \n",
            "_________________________________________________________________\n",
            "conv1d_3 (Conv1D)            (None, 13, 64)            4160      \n",
            "_________________________________________________________________\n",
            "batch_normalization_3 (Batch (None, 13, 64)            256       \n",
            "_________________________________________________________________\n",
            "max_pooling1d_3 (MaxPooling1 (None, 6, 64)             0         \n",
            "_________________________________________________________________\n",
            "dropout_4 (Dropout)          (None, 6, 64)             0         \n",
            "_________________________________________________________________\n",
            "flatten_1 (Flatten)          (None, 384)               0         \n",
            "_________________________________________________________________\n",
            "dense_2 (Dense)              (None, 64)                24640     \n",
            "_________________________________________________________________\n",
            "dropout_5 (Dropout)          (None, 64)                0         \n",
            "_________________________________________________________________\n",
            "dense_3 (Dense)              (None, 1)                 65        \n",
            "=================================================================\n",
            "Total params: 29,345\n",
            "Trainable params: 29,153\n",
            "Non-trainable params: 192\n",
            "_________________________________________________________________\n"
          ],
          "name": "stdout"
        }
      ]
    },
    {
      "cell_type": "code",
      "metadata": {
        "id": "qLzaKf6gFrAR",
        "colab_type": "code",
        "colab": {}
      },
      "source": [
        "model.compile(optimizer = \"adam\",loss = \"binary_crossentropy\",metrics = [\"accuracy\"])"
      ],
      "execution_count": 0,
      "outputs": []
    },
    {
      "cell_type": "code",
      "metadata": {
        "id": "44RxRgQIG2p6",
        "colab_type": "code",
        "outputId": "3772d96c-964e-4428-cdc1-7d561164d4b8",
        "colab": {
          "base_uri": "https://localhost:8080/",
          "height": 738
        }
      },
      "source": [
        "history = model.fit(X_train,Y_train,epochs = epochs,validation_data = (X_test,Y_test),verbose = 1)"
      ],
      "execution_count": 57,
      "outputs": [
        {
          "output_type": "stream",
          "text": [
            "Train on 199364 samples, validate on 85443 samples\n",
            "Epoch 1/20\n",
            "199364/199364 [==============================] - 42s 211us/sample - loss: 0.0118 - acc: 0.9981 - val_loss: 0.0045 - val_acc: 0.9993\n",
            "Epoch 2/20\n",
            "199364/199364 [==============================] - 42s 208us/sample - loss: 0.0057 - acc: 0.9991 - val_loss: 0.0040 - val_acc: 0.9994\n",
            "Epoch 3/20\n",
            "199364/199364 [==============================] - 41s 207us/sample - loss: 0.0052 - acc: 0.9992 - val_loss: 0.0045 - val_acc: 0.9994\n",
            "Epoch 4/20\n",
            "199364/199364 [==============================] - 41s 207us/sample - loss: 0.0052 - acc: 0.9992 - val_loss: 0.0043 - val_acc: 0.9994\n",
            "Epoch 5/20\n",
            "199364/199364 [==============================] - 42s 208us/sample - loss: 0.0048 - acc: 0.9992 - val_loss: 0.0043 - val_acc: 0.9994\n",
            "Epoch 6/20\n",
            "199364/199364 [==============================] - 41s 207us/sample - loss: 0.0046 - acc: 0.9992 - val_loss: 0.0036 - val_acc: 0.9994\n",
            "Epoch 7/20\n",
            "199364/199364 [==============================] - 41s 207us/sample - loss: 0.0043 - acc: 0.9993 - val_loss: 0.0044 - val_acc: 0.9994\n",
            "Epoch 8/20\n",
            "199364/199364 [==============================] - 41s 207us/sample - loss: 0.0042 - acc: 0.9993 - val_loss: 0.0041 - val_acc: 0.9994\n",
            "Epoch 9/20\n",
            "199364/199364 [==============================] - 41s 208us/sample - loss: 0.0043 - acc: 0.9993 - val_loss: 0.0037 - val_acc: 0.9994\n",
            "Epoch 10/20\n",
            "199364/199364 [==============================] - 42s 210us/sample - loss: 0.0040 - acc: 0.9993 - val_loss: 0.0035 - val_acc: 0.9994\n",
            "Epoch 11/20\n",
            "199364/199364 [==============================] - 41s 206us/sample - loss: 0.0038 - acc: 0.9994 - val_loss: 0.0033 - val_acc: 0.9995\n",
            "Epoch 12/20\n",
            "199364/199364 [==============================] - 41s 205us/sample - loss: 0.0039 - acc: 0.9993 - val_loss: 0.0037 - val_acc: 0.9994\n",
            "Epoch 13/20\n",
            "199364/199364 [==============================] - 42s 208us/sample - loss: 0.0040 - acc: 0.9993 - val_loss: 0.0033 - val_acc: 0.9995\n",
            "Epoch 14/20\n",
            "199364/199364 [==============================] - 42s 211us/sample - loss: 0.0041 - acc: 0.9993 - val_loss: 0.0036 - val_acc: 0.9994\n",
            "Epoch 15/20\n",
            "199364/199364 [==============================] - 42s 210us/sample - loss: 0.0038 - acc: 0.9992 - val_loss: 0.0033 - val_acc: 0.9994\n",
            "Epoch 16/20\n",
            "199364/199364 [==============================] - 42s 212us/sample - loss: 0.0039 - acc: 0.9993 - val_loss: 0.0036 - val_acc: 0.9994\n",
            "Epoch 17/20\n",
            "199364/199364 [==============================] - 42s 211us/sample - loss: 0.0037 - acc: 0.9993 - val_loss: 0.0036 - val_acc: 0.9994\n",
            "Epoch 18/20\n",
            "199364/199364 [==============================] - 41s 204us/sample - loss: 0.0037 - acc: 0.9993 - val_loss: 0.0035 - val_acc: 0.9994\n",
            "Epoch 19/20\n",
            "199364/199364 [==============================] - 40s 203us/sample - loss: 0.0036 - acc: 0.9993 - val_loss: 0.0034 - val_acc: 0.9994\n",
            "Epoch 20/20\n",
            "199364/199364 [==============================] - 41s 204us/sample - loss: 0.0037 - acc: 0.9993 - val_loss: 0.0037 - val_acc: 0.9994\n"
          ],
          "name": "stdout"
        }
      ]
    },
    {
      "cell_type": "code",
      "metadata": {
        "id": "ZLkQL3j1Hu9d",
        "colab_type": "code",
        "colab": {}
      },
      "source": [
        "def plot_learning_curves(history,epochs):\n",
        "  epoch_range = range(1,epochs+1)\n",
        "  #for training and validation accuracy\n",
        "  plt.plot(epoch_range,history.history[\"acc\"])\n",
        "  plt.plot(epoch_range,history.history[\"val_acc\"])\n",
        "  plt.title(\"ACCURACY(model)\")\n",
        "  plt.xlabel(\"epochs\")\n",
        "  plt.ylabel(\"accuracy\")\n",
        "  plt.legend([\"train\",\"val\"],loc = \"upper left\")\n",
        "  plt.show()\n",
        "  #for training and validation loss\n",
        "  plt.plot(epoch_range,history.history[\"loss\"])\n",
        "  plt.plot(epoch_range,history.history[\"val_loss\"])\n",
        "  plt.title(\"LOSS(model)\")\n",
        "  plt.xlabel(\"epochs\")\n",
        "  plt.ylabel(\"loss\")\n",
        "  plt.legend([\"train\",\"val\"],loc = \"upper left\")\n",
        "  plt.show()"
      ],
      "execution_count": 0,
      "outputs": []
    },
    {
      "cell_type": "code",
      "metadata": {
        "id": "PJDtNPAvKDqu",
        "colab_type": "code",
        "outputId": "77a4bcd4-64a5-4a21-b276-9080c3e5d70d",
        "colab": {
          "base_uri": "https://localhost:8080/",
          "height": 573
        }
      },
      "source": [
        "plot_learning_curves(history,epochs)"
      ],
      "execution_count": 59,
      "outputs": [
        {
          "output_type": "display_data",
          "data": {
            "image/png": "[encoded data removed]",
            "text/plain": [
              "<Figure size 432x288 with 1 Axes>"
            ]
          },
          "metadata": {
            "tags": []
          }
        },
        {
          "output_type": "display_data",
          "data": {
            "image/png": "[encoded data removed]",
            "text/plain": [
              "<Figure size 432x288 with 1 Axes>"
            ]
          },
          "metadata": {
            "tags": []
          }
        }
      ]
    },
    {
      "cell_type": "code",
      "metadata": {
        "id": "jPzlc0hIjf3M",
        "colab_type": "code",
        "colab": {
          "base_uri": "https://localhost:8080/",
          "height": 34
        },
        "outputId": "adb8d482-06a5-42cd-8f23-c8be70f99ed7"
      },
      "source": [
        "test_loss,test_acc = model.evaluate(X_test,Y_test)"
      ],
      "execution_count": 66,
      "outputs": [
        {
          "output_type": "stream",
          "text": [
            "85443/85443 [==============================] - 5s 62us/sample - loss: 0.0037 - acc: 0.9994\n"
          ],
          "name": "stdout"
        }
      ]
    },
    {
      "cell_type": "code",
      "metadata": {
        "id": "zIPpdal5jmVQ",
        "colab_type": "code",
        "colab": {}
      },
      "source": [
        "from sklearn.metrics import accuracy_score\n",
        "Y_pred = model.predict_classes(X_test)"
      ],
      "execution_count": 0,
      "outputs": []
    },
    {
      "cell_type": "code",
      "metadata": {
        "id": "nExmAjyveFVv",
        "colab_type": "code",
        "colab": {
          "base_uri": "https://localhost:8080/",
          "height": 34
        },
        "outputId": "b1ec2645-7897-4142-d4b0-2bbf7637e339"
      },
      "source": [
        "accuracy_score(Y_test,Y_pred)"
      ],
      "execution_count": 68,
      "outputs": [
        {
          "output_type": "execute_result",
          "data": {
            "text/plain": [
              "0.9994265182636377"
            ]
          },
          "metadata": {
            "tags": []
          },
          "execution_count": 68
        }
      ]
    },
    {
      "cell_type": "code",
      "metadata": {
        "id": "WD9GFY0dmEPV",
        "colab_type": "code",
        "colab": {
          "base_uri": "https://localhost:8080/",
          "height": 322
        },
        "outputId": "b9452be8-700a-446e-ddee-728d5427c124"
      },
      "source": [
        "from sklearn.metrics import confusion_matrix\n",
        "cm=confusion_matrix(Y_test,Y_pred)\n",
        "print(cm)\n",
        "plt.imshow(cm, cmap='binary')"
      ],
      "execution_count": 74,
      "outputs": [
        {
          "output_type": "stream",
          "text": [
            "[[85282    14]\n",
            " [   35   112]]\n"
          ],
          "name": "stdout"
        },
        {
          "output_type": "execute_result",
          "data": {
            "text/plain": [
              "<matplotlib.image.AxesImage at 0x7f446ea899e8>"
            ]
          },
          "metadata": {
            "tags": []
          },
          "execution_count": 74
        },
        {
          "output_type": "display_data",
          "data": {
            "image/png": "[encoded data removed]",
            "text/plain": [
              "<Figure size 432x288 with 1 Axes>"
            ]
          },
          "metadata": {
            "tags": []
          }
        }
      ]
    },
    {
      "cell_type": "code",
      "metadata": {
        "id": "6oSer2b_msdd",
        "colab_type": "code",
        "colab": {
          "base_uri": "https://localhost:8080/",
          "height": 286
        },
        "outputId": "0dc84e57-c705-498c-a7f3-e88d8c1bd116"
      },
      "source": [
        "import seaborn as sn\n",
        "sn.heatmap(cm,annot = True)"
      ],
      "execution_count": 75,
      "outputs": [
        {
          "output_type": "execute_result",
          "data": {
            "text/plain": [
              "<matplotlib.axes._subplots.AxesSubplot at 0x7f446e538e48>"
            ]
          },
          "metadata": {
            "tags": []
          },
          "execution_count": 75
        },
        {
          "output_type": "display_data",
          "data": {
            "image/png": "[encoded data removed]",
            "text/plain": [
              "<Figure size 432x288 with 2 Axes>"
            ]
          },
          "metadata": {
            "tags": []
          }
        }
      ]
    }
  ]
}